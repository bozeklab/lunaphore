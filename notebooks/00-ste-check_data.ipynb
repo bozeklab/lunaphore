{
 "cells": [
  {
   "cell_type": "code",
   "execution_count": null,
   "id": "06117e9e-e64f-4039-ac91-21a92473512c",
   "metadata": {},
   "outputs": [],
   "source": [
    "# OPTIONAL: Load the \"autoreload\" extension so that code can change\n",
    "%reload_ext autoreload\n",
    "\n",
    "# OPTIONAL: always reload modules so that as you change code in src, it gets loaded\n",
    "%autoreload 2\n",
    "\n",
    "import sys\n",
    "sys.path.append('../src')\n",
    "\n",
    "from datetime import datetime\n",
    "import os\n",
    "import numpy as np\n",
    "from numpy.lib.stride_tricks import sliding_window_view as sww\n",
    "import pandas as pd\n",
    "import re\n",
    "\n",
    "from metadata import metadata\n",
    "from utils import list_subdir_filter as lsd, unique\n",
    "\n",
    "global md\n",
    "md = metadata()\n",
    "\n",
    "global markers\n",
    "markers = list(md.markers)"
   ]
  },
  {
   "cell_type": "code",
   "execution_count": null,
   "id": "c988a25e-c79c-4a0e-9fd8-c39eafacacba",
   "metadata": {},
   "outputs": [],
   "source": [
    "def get_id(f):\n",
    "    if re.search('A40(\\.|_)', f):\n",
    "        return re.sub('^.*A40.([0-9]{4}).*$', '\\\\1', f)\n",
    "    else:\n",
    "        return re.sub('^.*segmentation_([0-9]+).*$', '\\\\1', f)\n",
    "\n",
    "def date_of_files(files):\n",
    "    try:\n",
    "        return max([os.path.getctime(f) for f in files if os.path.exists(f)])\n",
    "    except:\n",
    "        return 0\n",
    "\n",
    "\n",
    "all_samples = lsd(os.path.join(md.folders['images'], 'mouse'))\n",
    "all_imgs = lsd(os.path.join(md.folders['images'], 'mouse'), True, '\\.tif')\n",
    "all_segs = lsd(md.folders['segmented'], True)\n",
    "pickle_files = lsd(md.folders['regionprops'], False, 'A40_')\n",
    "\n",
    "\n",
    "all_samples_ids, all_imgs_ids, all_segs_ids, all_pickles = list(map(\n",
    "    lambda x: unique([get_id(f) for f in x]), \n",
    "    [all_samples, all_imgs, all_segs, pickle_files]\n",
    "))\n",
    "\n"
   ]
  },
  {
   "cell_type": "code",
   "execution_count": null,
   "id": "756e3ce0-861a-4a4f-b648-1416b73cd748",
   "metadata": {},
   "outputs": [],
   "source": [
    "xfile = pd.read_excel(lsd(md.folders['images'], True, 'xls')[0])\n",
    "xfile['id_code'] = [re.sub('A40\\.', '', l) for l in xfile.Identification]\n",
    "#xfile = xfile.loc[xfile['id_code'].isin(slide_ids)].sort_values('id_code')"
   ]
  },
  {
   "cell_type": "code",
   "execution_count": null,
   "id": "6c0ce0a5-4767-4418-a10a-643d7e11e5b8",
   "metadata": {},
   "outputs": [],
   "source": [
    "xfile['sam'] = xfile['id_code'].isin(all_samples_ids)\n",
    "xfile['img'] = xfile['id_code'].isin(all_imgs_ids)\n",
    "xfile['seg'] = xfile['id_code'].isin(all_segs_ids)\n",
    "xfile['regions'] = xfile['id_code'].isin(all_pickles)"
   ]
  },
  {
   "cell_type": "code",
   "execution_count": null,
   "id": "9aada3ac-522b-460e-8932-7413029188ba",
   "metadata": {},
   "outputs": [],
   "source": [
    "xfile.loc[xfile.sam & -xfile.img]"
   ]
  },
  {
   "cell_type": "code",
   "execution_count": null,
   "id": "f355864d-98d6-4d90-a8f0-1a82fc01a2da",
   "metadata": {},
   "outputs": [],
   "source": [
    "seg_dir = os.path.join(md.folders['segmented'], 'cellpose')\n",
    "\n",
    "xfile['complete_AF_removal'] = [\n",
    "    sum([\n",
    "        os.path.exists(os.path.join(md.folders['bg_removed'], f'clean_{marker}_{img_id}.npy')) \n",
    "        for marker in markers]\n",
    "       ) == 9 \n",
    "    for img_id in xfile.id_code\n",
    "]\n",
    "\n",
    "xfile['AF_time'] = [\n",
    "    datetime.fromtimestamp(date_of_files([\n",
    "        os.path.join(md.folders['bg_removed'], f'clean_{marker}_{img_id}.npy')\n",
    "        for marker in markers\n",
    "    ])).strftime('%Y.%m.%d %H:%M')\n",
    "    for img_id in xfile.id_code\n",
    "    ]\n",
    "\n",
    "xfile['complete_segmentation'] = [(len(lsd(seg_dir, True, f'A40_{i}_[0-9]_dapi1\\.npy')) == 10) for i in xfile.id_code]\n",
    "xfile.sort_values(['Condition', 'id_code'])"
   ]
  },
  {
   "cell_type": "code",
   "execution_count": null,
   "id": "a6bf3446-1fb6-4379-a96e-99b11b21b11d",
   "metadata": {},
   "outputs": [],
   "source": [
    "id_condition_table = xfile.loc[xfile.img, ['id_code', 'Condition', 'complete_AF_removal', 'complete_segmentation', 'regions']].sort_values(['Condition', 'id_code'])\n",
    "id_condition_table.to_csv('../data/interim/id_condition_table.csv')\n",
    "id_condition_table"
   ]
  },
  {
   "cell_type": "code",
   "execution_count": null,
   "id": "16ac5feb-4b0f-4adf-8924-f78a0b1351ff",
   "metadata": {},
   "outputs": [],
   "source": [
    "# seg_dir = os.path.join(md.folders['segmented'], 'cellpose')\n",
    "\n",
    "# markers = list(md.markers)\n",
    "# for img_id in sorted(xfile.id_code.unique()):\n",
    "#     ss = sum([os.path.exists(os.path.join(md.folders['bg_removed'], f'clean_{marker}_{img_id}.npy')) for marker in markers])\n",
    "#     ll = len(lsd(seg_dir, False, f'A40_{img_id}_dapi1_[0-9][0-9]\\.npy'))\n",
    "\n",
    "#     print(f'{img_id} - {ss} - {ll}')\n",
    "\n",
    "# # len(lsd(seg_dir, False, f'A40_{tile_code}_dapi1_[0-9][0-9]\\.npy')) != 10:\n",
    "# #         print(f'{tile_code} is sus. Skipping...')\n",
    "# #         return None"
   ]
  }
 ],
 "metadata": {
  "kernelspec": {
   "display_name": "pytorch_env",
   "language": "python",
   "name": "pytorch_env"
  },
  "language_info": {
   "codemirror_mode": {
    "name": "ipython",
    "version": 3
   },
   "file_extension": ".py",
   "mimetype": "text/x-python",
   "name": "python",
   "nbconvert_exporter": "python",
   "pygments_lexer": "ipython3",
   "version": "3.9.19"
  }
 },
 "nbformat": 4,
 "nbformat_minor": 5
}
