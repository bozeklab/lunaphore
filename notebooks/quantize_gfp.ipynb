{
 "cells": [
  {
   "cell_type": "code",
   "execution_count": 22,
   "id": "3d439d01-8c02-40ed-890c-2d1aadc1b7a6",
   "metadata": {},
   "outputs": [],
   "source": [
    "# OPTIONAL: Load the \"autoreload\" extension so that code can change\n",
    "%reload_ext autoreload\n",
    "\n",
    "# OPTIONAL: always reload modules so that as you change code in src, it gets loaded\n",
    "%autoreload 2\n",
    "\n",
    "import sys\n",
    "sys.path.append('../src')\n",
    "\n",
    "import cv2\n",
    "from IPython.display import display_html\n",
    "import matplotlib.pyplot as plt\n",
    "from metadata import metadata\n",
    "from multiprocessing import Pool, cpu_count\n",
    "import numpy as np\n",
    "import ome_types\n",
    "import os\n",
    "import pandas as pd\n",
    "from pathlib import Path\n",
    "import re\n",
    "# from sklearn.mixture import GaussianMixture\n",
    "import tifffile as tiff\n",
    "from tqdm import tqdm\n",
    "\n",
    "from utils import list_subdir_filter as lsd\n",
    "\n",
    "\n",
    "md = metadata() \n",
    "\n",
    "def get_id(f):\n",
    "    return re.sub('^.*A40.([0-9]+).*$', '\\\\1', f)\n",
    "\n",
    "\n",
    "figures_dir = '/projects/ag-bozek/lunaphore/reports/figures'\n",
    "binary_dir = '/projects/ag-bozek/lunaphore/data/interim'"
   ]
  },
  {
   "cell_type": "code",
   "execution_count": 3,
   "id": "b33145b9-e79e-43c5-a2c0-3486577173c4",
   "metadata": {},
   "outputs": [],
   "source": [
    "all_img_files = lsd(md.folders['images'], True, '.tif')\n"
   ]
  },
  {
   "cell_type": "code",
   "execution_count": null,
   "id": "1bd40d3f-0c00-451c-b178-7da22440f21d",
   "metadata": {},
   "outputs": [],
   "source": [
    "for img_file in tqdm(all_img_files):\n",
    "    img_id = get_id(img_file)\n",
    "    img = tiff.imread(img_file, key=5)\n",
    "    low_thr = np.quantile(img[100:-100, 100:-100], 0.002)\n",
    "    hi_thr = np.quantile(img[100:-100, 100:-100], 0.998)\n",
    "    img = (np.clip(img, low_thr, np.Inf) - low_thr).astype('uint16')\n",
    "    threshold, binarized = cv2.threshold(img, 0, 65535, cv2.THRESH_BINARY + cv2.THRESH_OTSU)\n",
    "    \n",
    "    np.save(os.path.join(binary_dir, f'gfp_positive.np'), binarized.astype('bool'))\n",
    "    \n",
    "    vals = img.flatten()\n",
    "    fig, ax = plt.subplots(1, 1, figsize=(6,4))\n",
    "    _p = ax.hist(vals[vals<hi_thr], bins=125)\n",
    "    ax.set_yticks([])\n",
    "    ax.vlines(x=threshold, ymin=0, ymax=_p[0].max(), color='gold')\n",
    "    ax.set_title(f'{img_id}')\n",
    "    ax.text(\n",
    "        s=f'hi = {int(hi_thr)}\\nthr = {int(threshold)}\\nlow = {int(low_thr)}', \n",
    "        x=0.95, \n",
    "        y= 0.95, \n",
    "        ha='right', \n",
    "        va='top',\n",
    "        transform=ax.transAxes,\n",
    "        family=plt.rcParams[\"font.monospace\"][0],\n",
    "    )\n",
    "    plt.savefig(os.path.join(figures_dir, f'gfp_thresholding_{img_id}.pdf'))\n",
    "    plt.close()\n",
    "    \n",
    "    plt.imshow(binarized[::15, ::15])\n",
    "    plt.axis('off')\n",
    "    plt.savefig(os.path.join(figures_dir, f'gfp_binarized_{img_id}.png'))\n",
    "    plt.close()"
   ]
  },
  {
   "cell_type": "code",
   "execution_count": null,
   "id": "cb557cb5-d0c1-4af7-8a7c-a825f367f8cd",
   "metadata": {},
   "outputs": [],
   "source": [
    "md.markers§dd"
   ]
  },
  {
   "cell_type": "code",
   "execution_count": null,
   "id": "e576a93f-3892-4ea4-8c88-ebf25e467acb",
   "metadata": {},
   "outputs": [],
   "source": [
    "list(md.markers)[5]\n",
    "# list(md.markers)[9]\n"
   ]
  },
  {
   "cell_type": "code",
   "execution_count": null,
   "id": "f41cc90b-32e7-4a80-a092-8fb79788d34a",
   "metadata": {},
   "outputs": [],
   "source": [
    "md.marker_channels"
   ]
  },
  {
   "cell_type": "code",
   "execution_count": null,
   "id": "8b307ecf-feb4-4cac-878e-702ae9a68347",
   "metadata": {},
   "outputs": [],
   "source": [
    "%%time\n",
    "for img_file in all_img_files[:1]:\n",
    "    \n",
    "    cy = tiff.imread(img_file, key=1)\n",
    "    gfp = tiff.imread(img_file, key=5)\n",
    "    slug = tiff.imread(img_file, key=9)\n",
    "\n",
    "    sub_gfp = gfp.astype('int32') - cy\n",
    "    sub_slug = slug.astype('int32') - cy\n",
    "    "
   ]
  },
  {
   "cell_type": "code",
   "execution_count": null,
   "id": "9c743b8c-e142-40d1-a999-380d3abbd937",
   "metadata": {},
   "outputs": [],
   "source": [
    "%%time\n",
    "subtraction = slug.astype('int32') - cy"
   ]
  },
  {
   "cell_type": "code",
   "execution_count": null,
   "id": "c5fb8bf4-7399-4175-a584-4d12a3cc47f7",
   "metadata": {},
   "outputs": [],
   "source": [
    "np.sum(subtraction < -75) / len(subtraction.flatten())"
   ]
  },
  {
   "cell_type": "code",
   "execution_count": null,
   "id": "d0a9b808-5f75-4543-9c6e-510537346731",
   "metadata": {},
   "outputs": [],
   "source": [
    "np.quantile(np.clip(subtraction, 0, np.Inf), 0.95)"
   ]
  },
  {
   "cell_type": "code",
   "execution_count": null,
   "id": "ae84070c-fc45-4e98-abf0-72028ace53e8",
   "metadata": {},
   "outputs": [],
   "source": [
    "np.quantile(subtraction, 0.95)"
   ]
  },
  {
   "cell_type": "code",
   "execution_count": null,
   "id": "62db0c4e-93b8-40ce-84f8-e9bcecc58324",
   "metadata": {},
   "outputs": [],
   "source": [
    "plt.figure(figsize=(10,4))\n",
    "p = plt.hist(subtraction.flatten()[::4], log=True, bins=150, color='green')\n",
    "plt.title(f'{img_id} - post-AF correction')\n",
    "plt.vlines(x=0, ymin=0.1, ymax=p[0].max()*1.02, color='gold')\n",
    "plt.savefig(os.path.join(md.folders['bg_removed'], f'intensity_dist_AF_correction_{img_id}.png'))\n",
    "plt.xlim(-65535, 65535)\n"
   ]
  },
  {
   "cell_type": "code",
   "execution_count": null,
   "id": "84b8d6ab-d322-4108-a73a-c803c6c0ccaa",
   "metadata": {},
   "outputs": [],
   "source": [
    "p[0].max()"
   ]
  },
  {
   "cell_type": "code",
   "execution_count": null,
   "id": "1dcc1220-6296-4a15-b0f7-4c087c8fc0e8",
   "metadata": {},
   "outputs": [],
   "source": [
    "np.max(sub_gfp)"
   ]
  },
  {
   "cell_type": "code",
   "execution_count": null,
   "id": "ffb6de7d-5562-4579-ad26-1c1343b97a57",
   "metadata": {},
   "outputs": [],
   "source": [
    "65535 >> 8"
   ]
  },
  {
   "cell_type": "code",
   "execution_count": 27,
   "id": "b6392378-202d-494f-a953-379f895277ff",
   "metadata": {},
   "outputs": [],
   "source": [
    "def subtract_AF(signal, af, img_id, marker_name, clipmax=20000):\n",
    "\n",
    "    clean = signal.astype('int32') - af\n",
    "    \n",
    "    plt.figure(figsize=(10,4))\n",
    "    p = plt.hist(clean.flatten()[::4], log=True, bins=150, color='green')\n",
    "    plt.title(f'{img_id} ({marker_name}) post-AF correction')\n",
    "    plt.vlines(x=0, ymin=0.1, ymax=p[0].max()*1.02, color='gold')\n",
    "    plt.xlim(-65535, 65535)\n",
    "\n",
    "    plt.savefig(os.path.join(md.folders['bg_removed'], f'intensity_dist_AF_correction_{img_id}.png'))\n",
    "    plt.close()\n",
    "\n",
    "    \n",
    "    aaa = [\n",
    "        np.clip(clean[::8,::8], 0, clipmax)/clipmax, \n",
    "        np.clip(af[::8,::8], 0, clipmax)/clipmax, \n",
    "        np.clip(clean[::8,::8], 0, clipmax)/clipmax\n",
    "    ] \n",
    "\n",
    "    aaa = np.moveaxis(aaa, 0, -1)\n",
    "\n",
    "    plt.figure(figsize=(6,6))\n",
    "    plt.imshow(aaa)\n",
    "    plt.axis('off')\n",
    "    plt.title(f'{img_id}: AF/{marker_name}')\n",
    "    plt.savefig(os.path.join(md.folders['bg_removed'], f'AF_correction_{img_id}_{marker_name}.png'), transparent=True)\n",
    "    plt.close()\n",
    "\n",
    "    np.save(\n",
    "        os.path.join(md.folders['bg_removed'], f'clean_{marker_name}_{img_id}.npy'),\n",
    "        (np.clip(clean, 0, np.Inf).astype('uint16') >> 8).astype('uint8')\n",
    "    )\n",
    "\n",
    "\n",
    "def do_the_cleaning(img_file):\n",
    "    img_id = get_id(img_file)\n",
    "    print(img_id)\n",
    "\n",
    "    markers = list(md.markers)\n",
    "\n",
    "    existing = sum([os.path.exists(os.path.join(md.folders['bg_removed'], f'clean_{marker}_{img_id}.npy')) for marker in markers])\n",
    "    if existing == 9:\n",
    "        print(f'{img_id} already processed, skipping')\n",
    "        return None\n",
    "    \n",
    "    bg = tiff.imread(img_file, key=1)\n",
    "    \n",
    "    for i in range(3, len(md.markers), 2):\n",
    "        marker = markers[i]\n",
    "        print(marker)\n",
    "        signal = tiff.imread(img_file, key=i)\n",
    "        subtract_AF(signal, bg, img_id, marker_name=marker)\n",
    "\n",
    "    bg = tiff.imread(img_file, key=2)\n",
    "    for i in range(4, len(md.markers), 2):\n",
    "        marker = markers[i]\n",
    "        print(marker)\n",
    "        signal = tiff.imread(img_file, key=i)\n",
    "        subtract_AF(signal, bg, img_id, marker_name=marker)\n",
    "\n",
    "\n",
    "def safe_cleaning(img_file):\n",
    "    img_id = get_id(img_file)\n",
    "    print(img_id)\n",
    "    try:\n",
    "        do_the_cleaning(img_file)\n",
    "    except:\n",
    "        print(f'error with {img_id}')"
   ]
  },
  {
   "cell_type": "code",
   "execution_count": 28,
   "id": "3f97e177-25c9-415f-a3a1-75db0e277894",
   "metadata": {},
   "outputs": [
    {
     "data": {
      "text/plain": [
       "{'DAPI': 'DAPI',\n",
       " 'cy5': 'Cy5 AF',\n",
       " 'tritc': 'TRITC AF',\n",
       " 'c-myc': 'c-Myc (Y69)',\n",
       " 'ecad': 'E-Cadherin 36/E',\n",
       " 'gfp': 'GFP D5.1',\n",
       " 'vim': 'Vimentin V9',\n",
       " 'ccasp': 'Cleaved Caspase3 D175',\n",
       " 'ki67': 'Ki67 MIB-1',\n",
       " 'slug': 'SLUG C19G7',\n",
       " 'ck': 'CK AE1/AE3',\n",
       " 'fibro': 'Fibronectin E5H6X'}"
      ]
     },
     "execution_count": 28,
     "metadata": {},
     "output_type": "execute_result"
    }
   ],
   "source": [
    "md.markers"
   ]
  },
  {
   "cell_type": "code",
   "execution_count": 33,
   "id": "04341d55-3f8b-42dd-9101-b40e7838dd77",
   "metadata": {},
   "outputs": [
    {
     "data": {
      "text/plain": [
       "\u001b[0;31mSignature:\u001b[0m\n",
       "\u001b[0mpool\u001b[0m\u001b[0;34m.\u001b[0m\u001b[0mmap_async\u001b[0m\u001b[0;34m(\u001b[0m\u001b[0;34m\u001b[0m\n",
       "\u001b[0;34m\u001b[0m    \u001b[0mfunc\u001b[0m\u001b[0;34m,\u001b[0m\u001b[0;34m\u001b[0m\n",
       "\u001b[0;34m\u001b[0m    \u001b[0miterable\u001b[0m\u001b[0;34m,\u001b[0m\u001b[0;34m\u001b[0m\n",
       "\u001b[0;34m\u001b[0m    \u001b[0mchunksize\u001b[0m\u001b[0;34m=\u001b[0m\u001b[0;32mNone\u001b[0m\u001b[0;34m,\u001b[0m\u001b[0;34m\u001b[0m\n",
       "\u001b[0;34m\u001b[0m    \u001b[0mcallback\u001b[0m\u001b[0;34m=\u001b[0m\u001b[0;32mNone\u001b[0m\u001b[0;34m,\u001b[0m\u001b[0;34m\u001b[0m\n",
       "\u001b[0;34m\u001b[0m    \u001b[0merror_callback\u001b[0m\u001b[0;34m=\u001b[0m\u001b[0;32mNone\u001b[0m\u001b[0;34m,\u001b[0m\u001b[0;34m\u001b[0m\n",
       "\u001b[0;34m\u001b[0m\u001b[0;34m)\u001b[0m\u001b[0;34m\u001b[0m\u001b[0;34m\u001b[0m\u001b[0m\n",
       "\u001b[0;31mDocstring:\u001b[0m Asynchronous version of `map()` method.\n",
       "\u001b[0;31mFile:\u001b[0m      /projects/ag-bozek/stefano/pytorch_env/lib/python3.9/multiprocessing/pool.py\n",
       "\u001b[0;31mType:\u001b[0m      method"
      ]
     },
     "metadata": {},
     "output_type": "display_data"
    }
   ],
   "source": [
    "?pool.map_async"
   ]
  },
  {
   "cell_type": "code",
   "execution_count": 31,
   "id": "342e32f5-4580-41e6-86db-82db0ec7ce19",
   "metadata": {},
   "outputs": [
    {
     "data": {
      "text/plain": [
       "40"
      ]
     },
     "execution_count": 31,
     "metadata": {},
     "output_type": "execute_result"
    }
   ],
   "source": [
    "cpu_count()"
   ]
  },
  {
   "cell_type": "code",
   "execution_count": 35,
   "id": "f8d5a6d1-35e2-4d8d-aa77-2771b6432ff5",
   "metadata": {},
   "outputs": [],
   "source": [
    "with Pool(processes=cpu_count()) as pool:\n",
    "    pool.apply_async(safe_cleaning, all_img_files)"
   ]
  },
  {
   "cell_type": "code",
   "execution_count": 37,
   "id": "95ee0e93-e75f-4e6f-96e0-445c7fd9c029",
   "metadata": {},
   "outputs": [
    {
     "name": "stderr",
     "output_type": "stream",
     "text": [
      "  0%|                                                                                                                                                                                                                                                                                    | 0/34 [00:00<?, ?it/s]"
     ]
    },
    {
     "name": "stdout",
     "output_type": "stream",
     "text": [
      "2338\n",
      "2338\n",
      "2338 already processed, skipping\n",
      "2305\n",
      "2305\n",
      "2305 already processed, skipping\n",
      "2268\n",
      "2268\n",
      "2268 already processed, skipping\n",
      "2311\n",
      "2311\n",
      "2311 already processed, skipping\n",
      "2314\n",
      "2314\n",
      "2314 already processed, skipping\n",
      "2418\n",
      "2418\n",
      "2418 already processed, skipping\n",
      "2427\n",
      "2427\n",
      "2427 already processed, skipping\n",
      "2300\n",
      "2300\n",
      "2300 already processed, skipping\n",
      "2407\n",
      "2407\n",
      "c-myc\n"
     ]
    },
    {
     "name": "stderr",
     "output_type": "stream",
     "text": [
      " 26%|██████████████████████████████████████████████████████████████████████▉                                                                                                                                                                                                     | 9/34 [00:14<00:40,  1.61s/it]"
     ]
    },
    {
     "name": "stdout",
     "output_type": "stream",
     "text": [
      "error with 2407\n",
      "2255\n",
      "2255\n",
      "2255 already processed, skipping\n",
      "2406\n",
      "2406\n",
      "2406 already processed, skipping\n",
      "2416\n",
      "2416\n",
      "2416 already processed, skipping\n",
      "2419\n",
      "2419\n",
      "2419 already processed, skipping\n",
      "2337\n",
      "2337\n",
      "2337 already processed, skipping\n",
      "2312\n",
      "2312\n",
      "2312 already processed, skipping\n",
      "2404\n",
      "2404\n",
      "2404 already processed, skipping\n",
      "2256\n",
      "2256\n",
      "2256 already processed, skipping\n",
      "2408\n",
      "2408\n",
      "c-myc\n",
      "gfp\n",
      "ccasp\n",
      "slug\n",
      "fibro\n",
      "ecad\n",
      "vim\n",
      "ki67\n",
      "ck\n"
     ]
    },
    {
     "name": "stderr",
     "output_type": "stream",
     "text": [
      " 53%|█████████████████████████████████████████████████████████████████████████████████████████████████████████████████████████████████████████████▎                                                                                                                             | 18/34 [06:32<06:45, 25.35s/it]"
     ]
    },
    {
     "name": "stdout",
     "output_type": "stream",
     "text": [
      "2430\n",
      "2430\n",
      "c-myc\n",
      "gfp\n",
      "ccasp\n",
      "slug\n",
      "fibro\n",
      "ecad\n",
      "vim\n",
      "ki67\n",
      "ck\n"
     ]
    },
    {
     "name": "stderr",
     "output_type": "stream",
     "text": [
      " 56%|█████████████████████████████████████████████████████████████████████████████████████████████████████████████████████████████████████████████████████▏                                                                                                                     | 19/34 [13:12<14:19, 57.33s/it]"
     ]
    },
    {
     "name": "stdout",
     "output_type": "stream",
     "text": [
      "2304\n",
      "2304\n",
      "c-myc\n",
      "gfp\n",
      "ccasp\n",
      "slug\n",
      "fibro\n",
      "ecad\n",
      "vim\n",
      "ki67\n",
      "ck\n"
     ]
    },
    {
     "name": "stderr",
     "output_type": "stream",
     "text": [
      " 59%|█████████████████████████████████████████████████████████████████████████████████████████████████████████████████████████████████████████████████████████████                                                                                                              | 20/34 [20:07<22:27, 96.25s/it]"
     ]
    },
    {
     "name": "stdout",
     "output_type": "stream",
     "text": [
      "2339\n",
      "2339\n",
      "c-myc\n",
      "gfp\n",
      "ccasp\n",
      "slug\n",
      "fibro\n",
      "ecad\n",
      "vim\n",
      "ki67\n",
      "ck\n"
     ]
    },
    {
     "name": "stderr",
     "output_type": "stream",
     "text": [
      " 62%|████████████████████████████████████████████████████████████████████████████████████████████████████████████████████████████████████████████████████████████████████▎                                                                                                     | 21/34 [27:24<30:46, 142.06s/it]"
     ]
    },
    {
     "name": "stdout",
     "output_type": "stream",
     "text": [
      "2432\n",
      "2432\n",
      "c-myc\n",
      "gfp\n",
      "ccasp\n",
      "slug\n",
      "fibro\n",
      "ecad\n",
      "vim\n",
      "ki67\n",
      "ck\n"
     ]
    },
    {
     "name": "stderr",
     "output_type": "stream",
     "text": [
      " 65%|████████████████████████████████████████████████████████████████████████████████████████████████████████████████████████████████████████████████████████████████████████████                                                                                              | 22/34 [34:45<38:03, 190.26s/it]"
     ]
    },
    {
     "name": "stdout",
     "output_type": "stream",
     "text": [
      "2393\n",
      "2393\n",
      "c-myc\n",
      "gfp\n",
      "ccasp\n",
      "slug\n",
      "fibro\n",
      "ecad\n",
      "vim\n",
      "ki67\n",
      "ck\n"
     ]
    },
    {
     "name": "stderr",
     "output_type": "stream",
     "text": [
      " 68%|███████████████████████████████████████████████████████████████████████████████████████████████████████████████████████████████████████████████████████████████████████████████████▉                                                                                      | 23/34 [41:39<42:33, 232.13s/it]"
     ]
    },
    {
     "name": "stdout",
     "output_type": "stream",
     "text": [
      "2417\n",
      "2417\n",
      "c-myc\n",
      "gfp\n",
      "ccasp\n",
      "slug\n",
      "fibro\n",
      "ecad\n",
      "vim\n",
      "ki67\n",
      "ck\n"
     ]
    },
    {
     "name": "stderr",
     "output_type": "stream",
     "text": [
      " 71%|███████████████████████████████████████████████████████████████████████████████████████████████████████████████████████████████████████████████████████████████████████████████████████████▊                                                                              | 24/34 [47:11<42:12, 253.26s/it]"
     ]
    },
    {
     "name": "stdout",
     "output_type": "stream",
     "text": [
      "2420\n",
      "2420\n",
      "c-myc\n",
      "gfp\n",
      "ccasp\n",
      "slug\n",
      "fibro\n",
      "ecad\n",
      "vim\n",
      "ki67\n",
      "ck\n"
     ]
    },
    {
     "name": "stderr",
     "output_type": "stream",
     "text": [
      " 74%|███████████████████████████████████████████████████████████████████████████████████████████████████████████████████████████████████████████████████████████████████████████████████████████████████▌                                                                      | 25/34 [52:46<40:48, 272.07s/it]"
     ]
    },
    {
     "name": "stdout",
     "output_type": "stream",
     "text": [
      "2429\n",
      "2429\n",
      "c-myc\n",
      "gfp\n",
      "ccasp\n",
      "slug\n",
      "fibro\n",
      "ecad\n",
      "vim\n",
      "ki67\n",
      "ck\n"
     ]
    },
    {
     "name": "stderr",
     "output_type": "stream",
     "text": [
      " 76%|███████████████████████████████████████████████████████████████████████████████████████████████████████████████████████████████████████████████████████████████████████████████████████████████████████████▍                                                              | 26/34 [58:08<37:56, 284.52s/it]"
     ]
    },
    {
     "name": "stdout",
     "output_type": "stream",
     "text": [
      "2294\n",
      "2294\n"
     ]
    },
    {
     "name": "stderr",
     "output_type": "stream",
     "text": [
      " 79%|███████████████████████████████████████████████████████████████████████████████████████████████████████████████████████████████████████████████████████████████████████████████████████████████████████████████████▏                                                      | 27/34 [58:16<24:43, 211.93s/it]"
     ]
    },
    {
     "name": "stdout",
     "output_type": "stream",
     "text": [
      "c-myc\n",
      "error with 2294\n",
      "2403\n",
      "2403\n",
      "c-myc\n",
      "gfp\n",
      "ccasp\n",
      "slug\n",
      "fibro\n",
      "ecad\n",
      "vim\n",
      "ki67\n",
      "ck\n"
     ]
    },
    {
     "name": "stderr",
     "output_type": "stream",
     "text": [
      " 82%|█████████████████████████████████████████████████████████████████████████████████████████████████████████████████████████████████████████████████████████████████████████████████████████████████████████████████████████▍                                              | 28/34 [1:03:39<24:13, 242.22s/it]"
     ]
    },
    {
     "name": "stdout",
     "output_type": "stream",
     "text": [
      "2397\n",
      "2397\n",
      "c-myc\n",
      "gfp\n",
      "ccasp\n",
      "slug\n",
      "fibro\n",
      "ecad\n",
      "vim\n",
      "ki67\n",
      "ck\n"
     ]
    },
    {
     "name": "stderr",
     "output_type": "stream",
     "text": [
      " 85%|█████████████████████████████████████████████████████████████████████████████████████████████████████████████████████████████████████████████████████████████████████████████████████████████████████████████████████████████████▏                                      | 29/34 [1:09:00<22:01, 264.31s/it]"
     ]
    },
    {
     "name": "stdout",
     "output_type": "stream",
     "text": [
      "2405\n",
      "2405\n",
      "c-myc\n",
      "gfp\n",
      "ccasp\n",
      "slug\n",
      "fibro\n",
      "ecad\n",
      "vim\n",
      "ki67\n",
      "ck\n"
     ]
    },
    {
     "name": "stderr",
     "output_type": "stream",
     "text": [
      " 88%|████████████████████████████████████████████████████████████████████████████████████████████████████████████████████████████████████████████████████████████████████████████████████████████████████████████████████████████████████████▉                               | 30/34 [1:14:33<18:56, 284.14s/it]"
     ]
    },
    {
     "name": "stdout",
     "output_type": "stream",
     "text": [
      "2426\n",
      "2426\n",
      "c-myc\n",
      "gfp\n",
      "ccasp\n",
      "slug\n",
      "fibro\n",
      "ecad\n",
      "vim\n",
      "ki67\n",
      "ck\n"
     ]
    },
    {
     "name": "stderr",
     "output_type": "stream",
     "text": [
      " 91%|████████████████████████████████████████████████████████████████████████████████████████████████████████████████████████████████████████████████████████████████████████████████████████████████████████████████████████████████████████████████▋                       | 31/34 [1:20:04<14:53, 297.68s/it]"
     ]
    },
    {
     "name": "stdout",
     "output_type": "stream",
     "text": [
      "2294\n",
      "2294\n",
      "c-myc\n",
      "gfp\n",
      "ccasp\n",
      "slug\n",
      "fibro\n",
      "ecad\n",
      "vim\n",
      "ki67\n",
      "ck\n"
     ]
    },
    {
     "name": "stderr",
     "output_type": "stream",
     "text": [
      " 94%|████████████████████████████████████████████████████████████████████████████████████████████████████████████████████████████████████████████████████████████████████████████████████████████████████████████████████████████████████████████████████████▍               | 32/34 [1:25:31<10:12, 306.30s/it]"
     ]
    },
    {
     "name": "stdout",
     "output_type": "stream",
     "text": [
      "2429\n",
      "2429\n",
      "2429 already processed, skipping\n",
      "2303\n",
      "2303\n",
      "c-myc\n",
      "gfp\n",
      "ccasp\n",
      "slug\n",
      "fibro\n",
      "ecad\n",
      "vim\n",
      "ki67\n",
      "ck\n"
     ]
    },
    {
     "name": "stderr",
     "output_type": "stream",
     "text": [
      "100%|████████████████████████████████████████████████████████████████████████████████████████████████████████████████████████████████████████████████████████████████████████████████████████████████████████████████████████████████████████████████████████████████████████| 34/34 [1:30:59<00:00, 160.57s/it]\n"
     ]
    },
    {
     "data": {
      "image/png": "[encoded data removed]",
      "text/plain": [
       "<Figure size 1000x400 with 1 Axes>"
      ]
     },
     "metadata": {},
     "output_type": "display_data"
    }
   ],
   "source": [
    "for img_file in tqdm(all_img_files):\n",
    "    safe_cleaning(img_file)"
   ]
  },
  {
   "cell_type": "code",
   "execution_count": null,
   "id": "a0459a33-bef5-491d-a48b-871752ba047c",
   "metadata": {},
   "outputs": [],
   "source": [
    "plt.imshow(np.moveaxis(aaa, 0, -1))\n",
    "plt.axis('off')"
   ]
  },
  {
   "cell_type": "code",
   "execution_count": null,
   "id": "07d55348-7042-4216-9cbb-c6c27c11cd46",
   "metadata": {},
   "outputs": [],
   "source": [
    "# titles = ('gfp', 'gfp (clean)', 'slug', 'slug (clean)')\n",
    "# fig, axes = plt.subplots(2,3,figsize=(8,8))\n",
    "# for i, ax in enumerate(axes.ravel()):\n",
    "#     ax.axis('off')\n",
    "#     ax.set_title(titles[i])\n",
    "#     axes[0,0].imshow(gfp[::8,::8], vmin=0, vmax=20000, cmap='gray')\n",
    "#     axes[0,1].imshow(sub_gfp[::8,::8], vmin=0, vmax=20000, cmap='gray')\n",
    "#     axes[1,0].imshow(slug[::8,::8], vmin=0, vmax=20000, cmap='gray')\n",
    "#     axes[1,1].imshow(sub_slug[::8,::8], vmin=0, vmax=20000, cmap='gray')\n",
    "\n",
    "# plt.tight_layout()"
   ]
  },
  {
   "cell_type": "code",
   "execution_count": null,
   "id": "748b4dca-8db9-456a-bc0b-31c812d8b61a",
   "metadata": {},
   "outputs": [],
   "source": [
    "cy.astype('int32').max()"
   ]
  },
  {
   "cell_type": "code",
   "execution_count": null,
   "id": "96d680b9-ed6e-48f7-9d39-ae0faff17be0",
   "metadata": {},
   "outputs": [],
   "source": [
    "plt.imshow(np.clip(subtraction, 0, np.Inf))"
   ]
  },
  {
   "cell_type": "code",
   "execution_count": null,
   "id": "bf9c96c1-44e0-4ae6-98fe-50c6b5617e37",
   "metadata": {},
   "outputs": [],
   "source": [
    "plt.imshow(slug)"
   ]
  },
  {
   "cell_type": "code",
   "execution_count": null,
   "id": "31e95f77-fe87-4c8b-ae1e-c861c872ebdd",
   "metadata": {},
   "outputs": [],
   "source": [
    "md.markers"
   ]
  },
  {
   "cell_type": "code",
   "execution_count": null,
   "id": "3cd10016-a103-442d-8780-30812a304435",
   "metadata": {},
   "outputs": [],
   "source": [
    "def whole_cleaning(img_file):\n",
    "    img_id = get_id(img_file)\n",
    "\n",
    "    markers = md.markers\n",
    "    cy = tiff.imread(img_file, key=1)\n",
    "    for i in range(3, len(md.markers), 2):\n",
    "        marker = markers[i]\n",
    "        signal = tiff.imread(img_file, key=i)\n",
    "\n",
    "    \n",
    "    clean_gfp  = subtract_AF(gfp,  cy, img_id, marker_name='GFP')\n",
    "    clean_slug = subtract_AF(slug, cy, img_id, marker_name='slug'))"
   ]
  }
 ],
 "metadata": {
  "kernelspec": {
   "display_name": "pytorch_env",
   "language": "python",
   "name": "pytorch_env"
  },
  "language_info": {
   "codemirror_mode": {
    "name": "ipython",
    "version": 3
   },
   "file_extension": ".py",
   "mimetype": "text/x-python",
   "name": "python",
   "nbconvert_exporter": "python",
   "pygments_lexer": "ipython3",
   "version": "3.9.19"
  }
 },
 "nbformat": 4,
 "nbformat_minor": 5
}
