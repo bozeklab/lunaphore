{
 "cells": [
  {
   "cell_type": "code",
   "execution_count": null,
   "id": "9ea96f6a-3706-4dbe-9902-4cfbbb443a35",
   "metadata": {},
   "outputs": [],
   "source": [
    "import sys\n",
    "sys.path.append('../src')\n",
    "\n",
    "# if run in a notebook, generate a matching python script\",\n",
    "if 'ipykernel' in sys.modules:\n",
    "    %reload_ext autoreload\n",
    "    %autoreload 2\n"
   ]
  },
  {
   "cell_type": "code",
   "execution_count": null,
   "id": "18050be7-fa86-4f95-a1f4-647c16e1df32",
   "metadata": {},
   "outputs": [],
   "source": [
    "import cv2 as cv\n",
    "from cellpose import models, io, plot\n",
    "\n",
    "import matplotlib.pyplot as plt\n",
    "import numpy as np\n",
    "import os\n",
    "import pandas as pd\n",
    "from pathlib import Path\n",
    "import pickle\n",
    "import re\n",
    "import tifffile as tiff\n",
    "from time import time\n",
    "from tqdm import tqdm\n",
    "from utils import list_subdir_filter as lsd, unique, get_id\n",
    "from metadata import metadata\n",
    "\n",
    "global md\n",
    "md = metadata()\n",
    "\n",
    "model = models.Cellpose(gpu=True, model_type='nuclei')"
   ]
  },
  {
   "cell_type": "code",
   "execution_count": null,
   "id": "4bba7615-5062-473c-9f36-32971c151139",
   "metadata": {
    "editable": true,
    "slideshow": {
     "slide_type": ""
    },
    "tags": []
   },
   "outputs": [],
   "source": [
    "def segment_image(img_file):\n",
    "\n",
    "    tissue_id = re.sub('.*A40.([0-9]{4}).*$', '\\\\1', img_file)\n",
    "    print('\\n\\n', tissue_id)\n",
    "    if len(lsd(seg_dir, False, f'A40_{tissue_id}_dapi1_[0-9]\\.npy')) == 10:\n",
    "        print(f'{tissue_id} already segmented. Skipping...')\n",
    "        return None\n",
    "    \n",
    "    #img = np.load(img_file)[0]\n",
    "    img = tiff.imread(img_file, key=0)\n",
    "    img = (img >> 8).astype('uint8')\n",
    "    max_size = np.shape(img)[0]\n",
    "    width = 4000\n",
    "    \n",
    "    for i in tqdm(range((max_size // width) + 1)):\n",
    "        print(i)\n",
    "        min_row, max_row = max(0, i * width - 100), min(max_size, (i+1) * width + 100)\n",
    "        masks, flows, styles, diams = model.eval(img[min_row:max_row], diameter=None, channels=[0,0])\n",
    "        # pickle_dict = {'masks':masks, 'flows':flows, 'styles':styles, 'diams':diams}\n",
    "        \n",
    "        np.save(os.path.join(seg_dir, f'A40_{tissue_id}_{i}_dapi1.npy'), masks)\n",
    "        # with open(os.path.join(seg_dir, f'A40_{tissue_id}_dapi1_{i:02}.pkl'), 'wb') as handle:\n",
    "        #     pickle.dump(pickle_dict, handle, protocol=pickle.HIGHEST_PROTOCOL)"
   ]
  },
  {
   "cell_type": "code",
   "execution_count": null,
   "id": "efd660bf-3ae2-4f00-af88-a0d248ef9de0",
   "metadata": {},
   "outputs": [],
   "source": [
    "seg_dir = os.path.join(md.folders['segmented'], 'cellpose')\n",
    "Path(seg_dir).mkdir(exist_ok=True, parents=True)\n",
    "\n",
    "all_samples = lsd(os.path.join(md.folders['images'], 'mouse'))\n",
    "all_img_files = lsd(md.folders['images'], True, '.tif')\n",
    "all_seg_files = lsd(seg_dir, False, 'A40_[0-9]{4}')\n",
    "\n",
    "all_sample_ids, all_img_ids, all_seg_ids = list(map(\n",
    "    lambda x: unique([get_id(f) for f in x]), \n",
    "    [all_samples, all_img_files, all_seg_files]\n",
    "))\n",
    "\n",
    "to_segment = [f for f in all_img_files]\n",
    "\n"
   ]
  },
  {
   "cell_type": "code",
   "execution_count": null,
   "id": "a67c8b95-d2a7-46e5-a00e-26f8e3225e7e",
   "metadata": {
    "editable": true,
    "slideshow": {
     "slide_type": ""
    },
    "tags": []
   },
   "outputs": [],
   "source": [
    "for img_file in to_segment:\n",
    "    segment_image(img_file)"
   ]
  }
 ],
 "metadata": {
  "kernelspec": {
   "display_name": "pytorch_env",
   "language": "python",
   "name": "pytorch_env"
  },
  "language_info": {
   "codemirror_mode": {
    "name": "ipython",
    "version": 3
   },
   "file_extension": ".py",
   "mimetype": "text/x-python",
   "name": "python",
   "nbconvert_exporter": "python",
   "pygments_lexer": "ipython3",
   "version": "3.9.19"
  }
 },
 "nbformat": 4,
 "nbformat_minor": 5
}
