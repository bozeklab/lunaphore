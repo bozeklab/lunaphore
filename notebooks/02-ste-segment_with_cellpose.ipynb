{
 "cells": [
  {
   "cell_type": "code",
   "execution_count": null,
   "id": "18050be7-fa86-4f95-a1f4-647c16e1df32",
   "metadata": {},
   "outputs": [],
   "source": [
    "# OPTIONAL: Load the \"autoreload\" extension so that code can change\n",
    "%reload_ext autoreload\n",
    "\n",
    "# OPTIONAL: always reload modules so that as you change code in src, it gets loaded\n",
    "%autoreload 2\n",
    "\n",
    "import sys\n",
    "sys.path.append('../src')\n",
    "\n",
    "\n",
    "\n",
    "import cv2 as cv\n",
    "from cellpose import models, io, plot\n",
    "\n",
    "import matplotlib.pyplot as plt\n",
    "import numpy as np\n",
    "import os\n",
    "import pandas as pd\n",
    "from pathlib import Path\n",
    "import pickle\n",
    "import re\n",
    "import tifffile as tiff\n",
    "from time import time\n",
    "from tqdm import tqdm\n",
    "from utils import list_subdir_filter as lsd#, slide_cycle_dot as scd\n",
    "from metadata import metadata\n",
    "\n",
    "md = metadata()"
   ]
  },
  {
   "cell_type": "code",
   "execution_count": null,
   "id": "efd660bf-3ae2-4f00-af88-a0d248ef9de0",
   "metadata": {},
   "outputs": [],
   "source": [
    "def unique(list_):\n",
    "    return sorted(list(set(list_)))\n",
    "\n",
    "def get_id(f):\n",
    "    return re.sub('^.*A40\\.([0-9]+).*$', '\\\\1', f)\n",
    "\n",
    "\n",
    "all_samples = lsd(os.path.join(md.folders['images'], 'mouse'))\n",
    "all_img_files = lsd(md.folders['bg_removed'])\n",
    "all_seg_files = lsd(md.folders['segmented'], True, 'whole')\n",
    "\n",
    "all_sample_ids, all_img_ids = list(map(\n",
    "    lambda x: unique([get_id(f) for f in x]), \n",
    "    [all_samples, all_img_files]\n",
    "))\n",
    "\n",
    "all_seg_ids = unique([re.sub('^.*segmentation_([0-9]+).*$', '\\\\1', f) for f in all_seg_files])\n",
    "\n",
    "out_dir = os.path.join(md.folders['segmented'], 'cellpose_new')\n",
    "Path(out_dir).mkdir(exist_ok=True, parents=True)\n",
    "\n",
    "model = models.Cellpose(gpu=True, model_type='nuclei')"
   ]
  },
  {
   "cell_type": "code",
   "execution_count": null,
   "id": "b634bd4e-feb0-4a37-b8c7-469d244039b8",
   "metadata": {},
   "outputs": [],
   "source": [
    "all_seg_ids"
   ]
  },
  {
   "cell_type": "code",
   "execution_count": null,
   "id": "78f06d21-38ae-43c8-bd22-28a6446619a1",
   "metadata": {},
   "outputs": [],
   "source": [
    "to_segment = all_img_files#[f for f in all_img_files if re.search('(2294|2407)', f)]#re.sub('^.*A40\\.([0-9]+).*$', '\\\\1', f) not in all_seg_ids]\n",
    "to_segment"
   ]
  },
  {
   "cell_type": "code",
   "execution_count": null,
   "id": "b536f2ae-c3df-419a-8a1e-a50699f0aade",
   "metadata": {},
   "outputs": [],
   "source": [
    "39618 / 5"
   ]
  },
  {
   "cell_type": "code",
   "execution_count": null,
   "id": "4bba7615-5062-473c-9f36-32971c151139",
   "metadata": {},
   "outputs": [],
   "source": [
    "%%time\n",
    "for img_file in to_segment:\n",
    "    \n",
    "    tissue_id =re.sub('.*A40\\.([0-9]{4}).*$', '\\\\1', img_file)\n",
    "    print(tissue_id)\n",
    "    \n",
    "    img = np.load(img_file)[0]\n",
    "    max_size = np.shape(img)[0]\n",
    "    width = 8000\n",
    "    \n",
    "    for i in tqdm(range((max_size // width) + 1)):\n",
    "        print(i)\n",
    "        min_row, max_row = max(0, i * width - 100), min(max_size, (i+1) * width + 100)\n",
    "        masks, flows, styles, diams = model.eval(img[min_row:max_row], diameter=None, channels=[0,0])\n",
    "        pickle_dict = {'masks':masks, 'flows':flows, 'styles':styles, 'diams':diams}\n",
    "        \n",
    "        np.save(f'T3_A40_{tissue_id}_dapi1_masks_{i:02}.npy', masks)\n",
    "        \n",
    "        with open(os.path.join(out_dir, f'TT_A40_{tissue_id}_dapi1_{i:02}.pkl'), 'wb') as handle:\n",
    "            pickle.dump(pickle_dict, handle, protocol=pickle.HIGHEST_PROTOCOL)"
   ]
  },
  {
   "cell_type": "code",
   "execution_count": null,
   "id": "fb8f7dc8-6add-41e3-97d5-1d84c917b948",
   "metadata": {},
   "outputs": [],
   "source": [
    "%%time\n",
    "masks, flows, styles, diams = model.eval(ii[:, :3300], diameter=None, channels=[0,0])"
   ]
  }
 ],
 "metadata": {
  "kernelspec": {
   "display_name": "pytorch_env",
   "language": "python",
   "name": "pytorch_env"
  },
  "language_info": {
   "codemirror_mode": {
    "name": "ipython",
    "version": 3
   },
   "file_extension": ".py",
   "mimetype": "text/x-python",
   "name": "python",
   "nbconvert_exporter": "python",
   "pygments_lexer": "ipython3",
   "version": "3.9.19"
  }
 },
 "nbformat": 4,
 "nbformat_minor": 5
}
